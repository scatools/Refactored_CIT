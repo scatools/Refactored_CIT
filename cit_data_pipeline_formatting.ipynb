{
 "cells": [
  {
   "cell_type": "markdown",
   "metadata": {},
   "source": [
    "# CIT Data Pipeline: Formatting"
   ]
  },
  {
   "cell_type": "markdown",
   "metadata": {},
   "source": [
    "In this notebook, we ingest the avaiable, pre-populated data and format it for proper SQL uploading. "
   ]
  },
  {
   "cell_type": "code",
   "execution_count": 4,
   "metadata": {},
   "outputs": [],
   "source": [
    "import pandas as pd\n",
    "import numpy as np\n",
    "\n",
    "import requests"
   ]
  },
  {
   "cell_type": "code",
   "execution_count": 5,
   "metadata": {},
   "outputs": [],
   "source": [
    "def conform_headers(to_conform: [], existing_header: []) -> []:\n",
    "    conformed_header = []\n",
    "    \"\"\"Given the two lists representing column headers, make one \n",
    "    header conform to another.\n",
    "    \n",
    "    :param to_conform: Column to conform.\n",
    "    :type to_conform: [str]\n",
    "    \n",
    "    :param existing_header: Column for existing conformation.\n",
    "    :type existing_header: [str] \n",
    "    \n",
    "    :return conformed_header: List of column header conforming to existing header\n",
    "    :return type: [str]\n",
    "    \"\"\"\n",
    "    for column in existing_header:\n",
    "        if column in to_conform:\n",
    "            conformed_header.append(column)\n",
    "    \n",
    "    return conformed_header"
   ]
  },
  {
   "cell_type": "code",
   "execution_count": 6,
   "metadata": {},
   "outputs": [],
   "source": [
    "# Unit Test\n",
    "def test_conform_headers():\n",
    "    to_conform = [\"yes\", \"no\"]\n",
    "    existing_header = [\"no\"]\n",
    "    conformed_header = conform_headers(to_conform, existing_header)\n",
    "    assert conformed_header == [\"no\"]    \n",
    "test_conform_headers()"
   ]
  },
  {
   "cell_type": "code",
   "execution_count": 7,
   "metadata": {},
   "outputs": [],
   "source": [
    "def cherry_pick_dataframe(dataframe, conformed_header) -> pd.DataFrame:\n",
    "    picked_dataframe = pd.DataFrame(columns=conformed_header)\n",
    "    for column in conformed_header:\n",
    "        picked_dataframe[column] = dataframe[column]\n",
    "    return picked_dataframe"
   ]
  },
  {
   "cell_type": "markdown",
   "metadata": {},
   "source": [
    "## Load the Data"
   ]
  },
  {
   "cell_type": "code",
   "execution_count": 8,
   "metadata": {},
   "outputs": [
    {
     "name": "stdout",
     "output_type": "stream",
     "text": [
      "Current Header:\n",
      "['Plan Name', 'Date Added', 'Suggested By', 'Url', 'Plan Resolution', 'Planning Method', 'Land Conservation ', 'Unnamed: 7', 'Unnamed: 8', 'RESTORE GOALS', 'Unnamed: 10', 'Unnamed: 11', 'Unnamed: 12', 'Unnamed: 13', 'Unnamed: 14']\n"
     ]
    },
    {
     "data": {
      "text/html": [
       "<div>\n",
       "<style scoped>\n",
       "    .dataframe tbody tr th:only-of-type {\n",
       "        vertical-align: middle;\n",
       "    }\n",
       "\n",
       "    .dataframe tbody tr th {\n",
       "        vertical-align: top;\n",
       "    }\n",
       "\n",
       "    .dataframe thead th {\n",
       "        text-align: right;\n",
       "    }\n",
       "</style>\n",
       "<table border=\"1\" class=\"dataframe\">\n",
       "  <thead>\n",
       "    <tr style=\"text-align: right;\">\n",
       "      <th></th>\n",
       "      <th>Plan Name</th>\n",
       "      <th>Date Added</th>\n",
       "      <th>Suggested By</th>\n",
       "      <th>Url</th>\n",
       "      <th>Plan Resolution</th>\n",
       "      <th>Planning Method</th>\n",
       "      <th>Land Conservation</th>\n",
       "      <th>Unnamed: 7</th>\n",
       "      <th>Unnamed: 8</th>\n",
       "      <th>RESTORE GOALS</th>\n",
       "      <th>Unnamed: 10</th>\n",
       "      <th>Unnamed: 11</th>\n",
       "      <th>Unnamed: 12</th>\n",
       "      <th>Unnamed: 13</th>\n",
       "      <th>Unnamed: 14</th>\n",
       "    </tr>\n",
       "  </thead>\n",
       "  <tbody>\n",
       "    <tr>\n",
       "      <th>0</th>\n",
       "      <td>NaN</td>\n",
       "      <td>NaT</td>\n",
       "      <td>NaN</td>\n",
       "      <td>NaN</td>\n",
       "      <td>NaN</td>\n",
       "      <td>NaN</td>\n",
       "      <td>Aquisition</td>\n",
       "      <td>Easement</td>\n",
       "      <td>Stewardship</td>\n",
       "      <td>Habitat</td>\n",
       "      <td>Water Quality</td>\n",
       "      <td>Resources/Species</td>\n",
       "      <td>Community Resilience</td>\n",
       "      <td>Gulf Economy</td>\n",
       "      <td>Code</td>\n",
       "    </tr>\n",
       "    <tr>\n",
       "      <th>1</th>\n",
       "      <td>Habitat Management Plan - Baldwin County Meado...</td>\n",
       "      <td>2017-12-11</td>\n",
       "      <td>Jeniffer Roberts</td>\n",
       "      <td>na</td>\n",
       "      <td>NaN</td>\n",
       "      <td>NaN</td>\n",
       "      <td>NaN</td>\n",
       "      <td>NaN</td>\n",
       "      <td>NaN</td>\n",
       "      <td>NaN</td>\n",
       "      <td>NaN</td>\n",
       "      <td>NaN</td>\n",
       "      <td>NaN</td>\n",
       "      <td>NaN</td>\n",
       "      <td>NaN</td>\n",
       "    </tr>\n",
       "    <tr>\n",
       "      <th>2</th>\n",
       "      <td>THE MOBILE PENINSULA - CORRIDOR MASTER PLAN</td>\n",
       "      <td>2017-12-11</td>\n",
       "      <td>Jeniffer Roberts</td>\n",
       "      <td>na</td>\n",
       "      <td>NaN</td>\n",
       "      <td>NaN</td>\n",
       "      <td>NaN</td>\n",
       "      <td>NaN</td>\n",
       "      <td>NaN</td>\n",
       "      <td>NaN</td>\n",
       "      <td>NaN</td>\n",
       "      <td>NaN</td>\n",
       "      <td>NaN</td>\n",
       "      <td>NaN</td>\n",
       "      <td>NaN</td>\n",
       "    </tr>\n",
       "    <tr>\n",
       "      <th>3</th>\n",
       "      <td>Management Plan for the - Audubon Bird Sanctuary</td>\n",
       "      <td>2017-12-11</td>\n",
       "      <td>Jeniffer Roberts</td>\n",
       "      <td>na</td>\n",
       "      <td>NaN</td>\n",
       "      <td>NaN</td>\n",
       "      <td>NaN</td>\n",
       "      <td>NaN</td>\n",
       "      <td>NaN</td>\n",
       "      <td>NaN</td>\n",
       "      <td>NaN</td>\n",
       "      <td>NaN</td>\n",
       "      <td>NaN</td>\n",
       "      <td>NaN</td>\n",
       "      <td>NaN</td>\n",
       "    </tr>\n",
       "    <tr>\n",
       "      <th>4</th>\n",
       "      <td>Apalachee Region Comprehensive Economic Develo...</td>\n",
       "      <td>2018-02-27</td>\n",
       "      <td>FL Fish and Wildlife Conservation Commission</td>\n",
       "      <td>http://www.nado.org/wp-content/uploads/2014/08...</td>\n",
       "      <td>Regional</td>\n",
       "      <td>NaN</td>\n",
       "      <td>Yes</td>\n",
       "      <td>Yes</td>\n",
       "      <td>Yes</td>\n",
       "      <td>Yes</td>\n",
       "      <td>Yes</td>\n",
       "      <td>Yes</td>\n",
       "      <td>Yes</td>\n",
       "      <td>Yes</td>\n",
       "      <td>NaN</td>\n",
       "    </tr>\n",
       "  </tbody>\n",
       "</table>\n",
       "</div>"
      ],
      "text/plain": [
       "                                           Plan Name Date Added  \\\n",
       "0                                                NaN        NaT   \n",
       "1  Habitat Management Plan - Baldwin County Meado... 2017-12-11   \n",
       "2        THE MOBILE PENINSULA - CORRIDOR MASTER PLAN 2017-12-11   \n",
       "3   Management Plan for the - Audubon Bird Sanctuary 2017-12-11   \n",
       "4  Apalachee Region Comprehensive Economic Develo... 2018-02-27   \n",
       "\n",
       "                                   Suggested By  \\\n",
       "0                                           NaN   \n",
       "1                              Jeniffer Roberts   \n",
       "2                              Jeniffer Roberts   \n",
       "3                              Jeniffer Roberts   \n",
       "4  FL Fish and Wildlife Conservation Commission   \n",
       "\n",
       "                                                 Url Plan Resolution  \\\n",
       "0                                                NaN             NaN   \n",
       "1                                                 na             NaN   \n",
       "2                                                 na             NaN   \n",
       "3                                                 na             NaN   \n",
       "4  http://www.nado.org/wp-content/uploads/2014/08...        Regional   \n",
       "\n",
       "   Planning Method Land Conservation  Unnamed: 7   Unnamed: 8 RESTORE GOALS  \\\n",
       "0              NaN         Aquisition  Easement   Stewardship       Habitat   \n",
       "1              NaN                NaN        NaN          NaN           NaN   \n",
       "2              NaN                NaN        NaN          NaN           NaN   \n",
       "3              NaN                NaN        NaN          NaN           NaN   \n",
       "4              NaN                Yes        Yes          Yes           Yes   \n",
       "\n",
       "      Unnamed: 10        Unnamed: 11           Unnamed: 12   Unnamed: 13  \\\n",
       "0  Water Quality   Resources/Species  Community Resilience  Gulf Economy   \n",
       "1             NaN                NaN                   NaN           NaN   \n",
       "2             NaN                NaN                   NaN           NaN   \n",
       "3             NaN                NaN                   NaN           NaN   \n",
       "4             Yes                Yes                   Yes           Yes   \n",
       "\n",
       "  Unnamed: 14  \n",
       "0        Code  \n",
       "1         NaN  \n",
       "2         NaN  \n",
       "3         NaN  \n",
       "4         NaN  "
      ]
     },
     "execution_count": 8,
     "metadata": {},
     "output_type": "execute_result"
    }
   ],
   "source": [
    "files = pd.read_excel(\"CIT_Newly_added_Catalog_0521.xlsx\")\n",
    "print(\"Current Header:\")\n",
    "print(list(files.columns))\n",
    "files.head()"
   ]
  },
  {
   "cell_type": "markdown",
   "metadata": {},
   "source": [
    "This pings which file links actually point to PDFs. Written by Ethan."
   ]
  },
  {
   "cell_type": "markdown",
   "metadata": {},
   "source": [
    "## Conform Incoming Column Names with Existing Column Names"
   ]
  },
  {
   "cell_type": "markdown",
   "metadata": {},
   "source": [
    "### Find Current Labels"
   ]
  },
  {
   "cell_type": "markdown",
   "metadata": {},
   "source": [
    "### Definitions:\n",
    "Existing labels  \n",
    "**incoming_header:** header in the incoming CSV  \n",
    "**existing_header:** header in the existing db   \n",
    "**files_df_remapped:** relabel incoming header to match with existing column names. Extraneous columns are identified, but not removed.  \n",
    "**files_df_reduced:** files_df_remapped but selecting columns which intersect with existing_header.  \n",
    "**files_df_expanded:** files_df_reduced expanded to include all columns in existing_header, not just those intersecting with the previous state.  \n",
    "\n",
    "**:**   "
   ]
  },
  {
   "cell_type": "code",
   "execution_count": 9,
   "metadata": {},
   "outputs": [
    {
     "name": "stdout",
     "output_type": "stream",
     "text": [
      "Incoming Header: \n",
      " ['Plan Name', 'Date Added', 'Suggested By', 'Url', 'Plan Resolution', 'Planning Method', 'Aquisition', 'Easement ', 'Stewardship', 'Habitat', 'Water Quality ', 'Resources/Species', 'Community Resilience', 'Gulf Economy', 'Code']\n"
     ]
    }
   ],
   "source": [
    "meshpoint = 6\n",
    "excel_header_1 = list(files.columns)[0:meshpoint]\n",
    "excel_header_2 = list(files.iloc[0,meshpoint:])\n",
    "incoming_header = excel_header_1 + excel_header_2\n",
    "print(\"Incoming Header: \\n\", incoming_header)"
   ]
  },
  {
   "cell_type": "code",
   "execution_count": 10,
   "metadata": {},
   "outputs": [
    {
     "name": "stdout",
     "output_type": "stream",
     "text": [
      "Existing Header: \n",
      " ['id', 'plan_name', 'plan_url', 'plan_resolution', 'planning_method', 'aquisition', 'easement', 'stewardship', 'plan_timeframe', 'agency_lead', 'geo_extent', 'habit', 'water_quality', 'resource_species', 'community_resilience', 'ecosystem_resilience', 'gulf_economy', 'related_state', 'status', 'is_new', 'existing_planid', 'username']\n"
     ]
    }
   ],
   "source": [
    "existing_header = ['id', 'plan_name', 'plan_url', \n",
    "                   'plan_resolution', 'planning_method', 'aquisition', \n",
    "                   'easement', 'stewardship', 'plan_timeframe', \n",
    "                   'agency_lead', 'geo_extent', 'habit', \n",
    "                   'water_quality', 'resource_species', 'community_resilience', \n",
    "                   'ecosystem_resilience', 'gulf_economy', 'related_state',\n",
    "                   'status', 'is_new', 'existing_planid', 'username']\n",
    "\n",
    "print(\"Existing Header: \\n\", existing_header)"
   ]
  },
  {
   "cell_type": "markdown",
   "metadata": {},
   "source": [
    "## Strip Column Names"
   ]
  },
  {
   "cell_type": "code",
   "execution_count": 11,
   "metadata": {},
   "outputs": [
    {
     "data": {
      "text/html": [
       "<div>\n",
       "<style scoped>\n",
       "    .dataframe tbody tr th:only-of-type {\n",
       "        vertical-align: middle;\n",
       "    }\n",
       "\n",
       "    .dataframe tbody tr th {\n",
       "        vertical-align: top;\n",
       "    }\n",
       "\n",
       "    .dataframe thead th {\n",
       "        text-align: right;\n",
       "    }\n",
       "</style>\n",
       "<table border=\"1\" class=\"dataframe\">\n",
       "  <thead>\n",
       "    <tr style=\"text-align: right;\">\n",
       "      <th></th>\n",
       "      <th>Plan Name</th>\n",
       "      <th>Date Added</th>\n",
       "      <th>Suggested By</th>\n",
       "      <th>Url</th>\n",
       "      <th>Plan Resolution</th>\n",
       "      <th>Planning Method</th>\n",
       "      <th>Aquisition</th>\n",
       "      <th>Easement</th>\n",
       "      <th>Stewardship</th>\n",
       "      <th>Habitat</th>\n",
       "      <th>Water Quality</th>\n",
       "      <th>Resources/Species</th>\n",
       "      <th>Community Resilience</th>\n",
       "      <th>Gulf Economy</th>\n",
       "      <th>Code</th>\n",
       "    </tr>\n",
       "  </thead>\n",
       "  <tbody>\n",
       "    <tr>\n",
       "      <th>1</th>\n",
       "      <td>Habitat Management Plan - Baldwin County Meado...</td>\n",
       "      <td>2017-12-11</td>\n",
       "      <td>Jeniffer Roberts</td>\n",
       "      <td>na</td>\n",
       "      <td>NaN</td>\n",
       "      <td>NaN</td>\n",
       "      <td>NaN</td>\n",
       "      <td>NaN</td>\n",
       "      <td>NaN</td>\n",
       "      <td>NaN</td>\n",
       "      <td>NaN</td>\n",
       "      <td>NaN</td>\n",
       "      <td>NaN</td>\n",
       "      <td>NaN</td>\n",
       "      <td>NaN</td>\n",
       "    </tr>\n",
       "    <tr>\n",
       "      <th>2</th>\n",
       "      <td>THE MOBILE PENINSULA - CORRIDOR MASTER PLAN</td>\n",
       "      <td>2017-12-11</td>\n",
       "      <td>Jeniffer Roberts</td>\n",
       "      <td>na</td>\n",
       "      <td>NaN</td>\n",
       "      <td>NaN</td>\n",
       "      <td>NaN</td>\n",
       "      <td>NaN</td>\n",
       "      <td>NaN</td>\n",
       "      <td>NaN</td>\n",
       "      <td>NaN</td>\n",
       "      <td>NaN</td>\n",
       "      <td>NaN</td>\n",
       "      <td>NaN</td>\n",
       "      <td>NaN</td>\n",
       "    </tr>\n",
       "    <tr>\n",
       "      <th>3</th>\n",
       "      <td>Management Plan for the - Audubon Bird Sanctuary</td>\n",
       "      <td>2017-12-11</td>\n",
       "      <td>Jeniffer Roberts</td>\n",
       "      <td>na</td>\n",
       "      <td>NaN</td>\n",
       "      <td>NaN</td>\n",
       "      <td>NaN</td>\n",
       "      <td>NaN</td>\n",
       "      <td>NaN</td>\n",
       "      <td>NaN</td>\n",
       "      <td>NaN</td>\n",
       "      <td>NaN</td>\n",
       "      <td>NaN</td>\n",
       "      <td>NaN</td>\n",
       "      <td>NaN</td>\n",
       "    </tr>\n",
       "    <tr>\n",
       "      <th>4</th>\n",
       "      <td>Apalachee Region Comprehensive Economic Develo...</td>\n",
       "      <td>2018-02-27</td>\n",
       "      <td>FL Fish and Wildlife Conservation Commission</td>\n",
       "      <td>http://www.nado.org/wp-content/uploads/2014/08...</td>\n",
       "      <td>Regional</td>\n",
       "      <td>NaN</td>\n",
       "      <td>Yes</td>\n",
       "      <td>Yes</td>\n",
       "      <td>Yes</td>\n",
       "      <td>Yes</td>\n",
       "      <td>Yes</td>\n",
       "      <td>Yes</td>\n",
       "      <td>Yes</td>\n",
       "      <td>Yes</td>\n",
       "      <td>NaN</td>\n",
       "    </tr>\n",
       "    <tr>\n",
       "      <th>5</th>\n",
       "      <td>Fishery Management Plan for Spanish Mackerel</td>\n",
       "      <td>2018-02-27</td>\n",
       "      <td>FL Fish and Wildlife Conservation Commission</td>\n",
       "      <td>http://sedarweb.org/docs/wsupp/S17RD03%20ASMFC...</td>\n",
       "      <td>GCR</td>\n",
       "      <td>NaN</td>\n",
       "      <td>NaN</td>\n",
       "      <td>NaN</td>\n",
       "      <td>NaN</td>\n",
       "      <td>NaN</td>\n",
       "      <td>NaN</td>\n",
       "      <td>Manage Spanish mackerel resourse</td>\n",
       "      <td>NaN</td>\n",
       "      <td>Minimize disruptions of markets for Spanish ma...</td>\n",
       "      <td>NaN</td>\n",
       "    </tr>\n",
       "  </tbody>\n",
       "</table>\n",
       "</div>"
      ],
      "text/plain": [
       "                                           Plan Name Date Added  \\\n",
       "1  Habitat Management Plan - Baldwin County Meado... 2017-12-11   \n",
       "2        THE MOBILE PENINSULA - CORRIDOR MASTER PLAN 2017-12-11   \n",
       "3   Management Plan for the - Audubon Bird Sanctuary 2017-12-11   \n",
       "4  Apalachee Region Comprehensive Economic Develo... 2018-02-27   \n",
       "5      Fishery Management Plan for Spanish Mackerel  2018-02-27   \n",
       "\n",
       "                                   Suggested By  \\\n",
       "1                              Jeniffer Roberts   \n",
       "2                              Jeniffer Roberts   \n",
       "3                              Jeniffer Roberts   \n",
       "4  FL Fish and Wildlife Conservation Commission   \n",
       "5  FL Fish and Wildlife Conservation Commission   \n",
       "\n",
       "                                                 Url Plan Resolution  \\\n",
       "1                                                 na             NaN   \n",
       "2                                                 na             NaN   \n",
       "3                                                 na             NaN   \n",
       "4  http://www.nado.org/wp-content/uploads/2014/08...        Regional   \n",
       "5  http://sedarweb.org/docs/wsupp/S17RD03%20ASMFC...             GCR   \n",
       "\n",
       "   Planning Method Aquisition Easement  Stewardship Habitat Water Quality   \\\n",
       "1              NaN        NaN       NaN         NaN     NaN            NaN   \n",
       "2              NaN        NaN       NaN         NaN     NaN            NaN   \n",
       "3              NaN        NaN       NaN         NaN     NaN            NaN   \n",
       "4              NaN        Yes       Yes         Yes     Yes            Yes   \n",
       "5              NaN        NaN       NaN         NaN     NaN            NaN   \n",
       "\n",
       "                  Resources/Species Community Resilience  \\\n",
       "1                               NaN                  NaN   \n",
       "2                               NaN                  NaN   \n",
       "3                               NaN                  NaN   \n",
       "4                               Yes                  Yes   \n",
       "5  Manage Spanish mackerel resourse                  NaN   \n",
       "\n",
       "                                        Gulf Economy Code  \n",
       "1                                                NaN  NaN  \n",
       "2                                                NaN  NaN  \n",
       "3                                                NaN  NaN  \n",
       "4                                                Yes  NaN  \n",
       "5  Minimize disruptions of markets for Spanish ma...  NaN  "
      ]
     },
     "execution_count": 11,
     "metadata": {},
     "output_type": "execute_result"
    }
   ],
   "source": [
    "files.columns = incoming_header\n",
    "files = files[1:]\n",
    "files.head()"
   ]
  },
  {
   "cell_type": "markdown",
   "metadata": {},
   "source": [
    "### Relabel The Incoming Column Names"
   ]
  },
  {
   "cell_type": "code",
   "execution_count": 12,
   "metadata": {},
   "outputs": [],
   "source": [
    "# Reduced given dataframe. \n",
    "# Columns ending with '_1' do not exist in the current database header.\n",
    "incoming_header_remap = ['plan_name', 'date_added_1', 'suggested_by_1', \n",
    "                         'plan_url', 'plan_resolution', 'planning_method', \n",
    "                         'aquisition', 'easement', 'stewardship', \n",
    "                         'habitat', 'water_quality', 'resource_species', \n",
    "                         'community_resilience', 'gulf_economy', 'code_1']\n",
    "\n",
    "rename_dictionary = {}\n",
    "for i in range(len(incoming_header)):\n",
    "    rename_dictionary[incoming_header_remap[i]] = incoming_header[i]\n",
    "\n",
    "# files.rename(columns=rename_dictionary).head()"
   ]
  },
  {
   "cell_type": "markdown",
   "metadata": {},
   "source": [
    "### Remap The Given DataFrame To Conform To Existing Columns"
   ]
  },
  {
   "cell_type": "code",
   "execution_count": 13,
   "metadata": {},
   "outputs": [
    {
     "data": {
      "text/html": [
       "<div>\n",
       "<style scoped>\n",
       "    .dataframe tbody tr th:only-of-type {\n",
       "        vertical-align: middle;\n",
       "    }\n",
       "\n",
       "    .dataframe tbody tr th {\n",
       "        vertical-align: top;\n",
       "    }\n",
       "\n",
       "    .dataframe thead th {\n",
       "        text-align: right;\n",
       "    }\n",
       "</style>\n",
       "<table border=\"1\" class=\"dataframe\">\n",
       "  <thead>\n",
       "    <tr style=\"text-align: right;\">\n",
       "      <th></th>\n",
       "      <th>plan_name</th>\n",
       "      <th>date_added_1</th>\n",
       "      <th>suggested_by_1</th>\n",
       "      <th>plan_url</th>\n",
       "      <th>plan_resolution</th>\n",
       "      <th>planning_method</th>\n",
       "      <th>aquisition</th>\n",
       "      <th>easement</th>\n",
       "      <th>stewardship</th>\n",
       "      <th>habitat</th>\n",
       "      <th>water_quality</th>\n",
       "      <th>resource_species</th>\n",
       "      <th>community_resilience</th>\n",
       "      <th>gulf_economy</th>\n",
       "      <th>code_1</th>\n",
       "    </tr>\n",
       "  </thead>\n",
       "  <tbody>\n",
       "    <tr>\n",
       "      <th>1</th>\n",
       "      <td>Habitat Management Plan - Baldwin County Meado...</td>\n",
       "      <td>2017-12-11</td>\n",
       "      <td>Jeniffer Roberts</td>\n",
       "      <td>na</td>\n",
       "      <td>NaN</td>\n",
       "      <td>NaN</td>\n",
       "      <td>NaN</td>\n",
       "      <td>NaN</td>\n",
       "      <td>NaN</td>\n",
       "      <td>NaN</td>\n",
       "      <td>NaN</td>\n",
       "      <td>NaN</td>\n",
       "      <td>NaN</td>\n",
       "      <td>NaN</td>\n",
       "      <td>NaN</td>\n",
       "    </tr>\n",
       "    <tr>\n",
       "      <th>2</th>\n",
       "      <td>THE MOBILE PENINSULA - CORRIDOR MASTER PLAN</td>\n",
       "      <td>2017-12-11</td>\n",
       "      <td>Jeniffer Roberts</td>\n",
       "      <td>na</td>\n",
       "      <td>NaN</td>\n",
       "      <td>NaN</td>\n",
       "      <td>NaN</td>\n",
       "      <td>NaN</td>\n",
       "      <td>NaN</td>\n",
       "      <td>NaN</td>\n",
       "      <td>NaN</td>\n",
       "      <td>NaN</td>\n",
       "      <td>NaN</td>\n",
       "      <td>NaN</td>\n",
       "      <td>NaN</td>\n",
       "    </tr>\n",
       "  </tbody>\n",
       "</table>\n",
       "</div>"
      ],
      "text/plain": [
       "                                           plan_name date_added_1  \\\n",
       "1  Habitat Management Plan - Baldwin County Meado...   2017-12-11   \n",
       "2        THE MOBILE PENINSULA - CORRIDOR MASTER PLAN   2017-12-11   \n",
       "\n",
       "     suggested_by_1 plan_url plan_resolution  planning_method aquisition  \\\n",
       "1  Jeniffer Roberts       na             NaN              NaN        NaN   \n",
       "2  Jeniffer Roberts       na             NaN              NaN        NaN   \n",
       "\n",
       "  easement stewardship habitat water_quality resource_species  \\\n",
       "1      NaN         NaN     NaN           NaN              NaN   \n",
       "2      NaN         NaN     NaN           NaN              NaN   \n",
       "\n",
       "  community_resilience gulf_economy code_1  \n",
       "1                  NaN          NaN    NaN  \n",
       "2                  NaN          NaN    NaN  "
      ]
     },
     "execution_count": 13,
     "metadata": {},
     "output_type": "execute_result"
    }
   ],
   "source": [
    "files_df_remapped = pd.DataFrame(columns=incoming_header_remap)\n",
    "# print(list(files_df_remapped.columns))\n",
    "\n",
    "for column in incoming_header_remap:\n",
    "    files_df_remapped[column] = files[rename_dictionary[column]]\n",
    "    \n",
    "files_df_remapped.head(2)    "
   ]
  },
  {
   "cell_type": "markdown",
   "metadata": {},
   "source": [
    "### Check The Incoming Column Remapping Worked"
   ]
  },
  {
   "cell_type": "code",
   "execution_count": 14,
   "metadata": {},
   "outputs": [
    {
     "name": "stdout",
     "output_type": "stream",
     "text": [
      "Index(['plan_name', 'date_added_1', 'suggested_by_1', 'plan_url',\n",
      "       'plan_resolution', 'planning_method', 'aquisition', 'easement',\n",
      "       'stewardship', 'habitat', 'water_quality', 'resource_species',\n",
      "       'community_resilience', 'gulf_economy', 'code_1'],\n",
      "      dtype='object') \n",
      "\n",
      "Index(['Plan Name', 'Date Added', 'Suggested By', 'Url', 'Plan Resolution',\n",
      "       'Planning Method', 'Aquisition', 'Easement ', 'Stewardship', 'Habitat',\n",
      "       'Water Quality ', 'Resources/Species', 'Community Resilience',\n",
      "       'Gulf Economy', 'Code'],\n",
      "      dtype='object') \n",
      "\n",
      "Column Number Difference: 0\n"
     ]
    }
   ],
   "source": [
    "print(files_df_remapped.columns, \"\\n\")\n",
    "print(files.columns, \"\\n\")\n",
    "column_number_difference = len(files_df_remapped.columns) - len(files.columns)\n",
    "assert column_number_difference == 0\n",
    "print(\"Column Number Difference:\", column_number_difference)"
   ]
  },
  {
   "cell_type": "markdown",
   "metadata": {},
   "source": [
    "## Conform Incoming Labels With Existing Ones "
   ]
  },
  {
   "cell_type": "code",
   "execution_count": 15,
   "metadata": {},
   "outputs": [],
   "source": [
    "conformed_header = conform_headers(list(files_df_remapped.columns), existing_header)"
   ]
  },
  {
   "cell_type": "code",
   "execution_count": 16,
   "metadata": {},
   "outputs": [
    {
     "data": {
      "text/html": [
       "<div>\n",
       "<style scoped>\n",
       "    .dataframe tbody tr th:only-of-type {\n",
       "        vertical-align: middle;\n",
       "    }\n",
       "\n",
       "    .dataframe tbody tr th {\n",
       "        vertical-align: top;\n",
       "    }\n",
       "\n",
       "    .dataframe thead th {\n",
       "        text-align: right;\n",
       "    }\n",
       "</style>\n",
       "<table border=\"1\" class=\"dataframe\">\n",
       "  <thead>\n",
       "    <tr style=\"text-align: right;\">\n",
       "      <th></th>\n",
       "      <th>plan_name</th>\n",
       "      <th>plan_url</th>\n",
       "      <th>plan_resolution</th>\n",
       "      <th>planning_method</th>\n",
       "      <th>aquisition</th>\n",
       "      <th>easement</th>\n",
       "      <th>stewardship</th>\n",
       "      <th>water_quality</th>\n",
       "      <th>resource_species</th>\n",
       "      <th>community_resilience</th>\n",
       "      <th>gulf_economy</th>\n",
       "    </tr>\n",
       "  </thead>\n",
       "  <tbody>\n",
       "    <tr>\n",
       "      <th>1</th>\n",
       "      <td>Habitat Management Plan - Baldwin County Meado...</td>\n",
       "      <td>na</td>\n",
       "      <td>NaN</td>\n",
       "      <td>NaN</td>\n",
       "      <td>NaN</td>\n",
       "      <td>NaN</td>\n",
       "      <td>NaN</td>\n",
       "      <td>NaN</td>\n",
       "      <td>NaN</td>\n",
       "      <td>NaN</td>\n",
       "      <td>NaN</td>\n",
       "    </tr>\n",
       "    <tr>\n",
       "      <th>2</th>\n",
       "      <td>THE MOBILE PENINSULA - CORRIDOR MASTER PLAN</td>\n",
       "      <td>na</td>\n",
       "      <td>NaN</td>\n",
       "      <td>NaN</td>\n",
       "      <td>NaN</td>\n",
       "      <td>NaN</td>\n",
       "      <td>NaN</td>\n",
       "      <td>NaN</td>\n",
       "      <td>NaN</td>\n",
       "      <td>NaN</td>\n",
       "      <td>NaN</td>\n",
       "    </tr>\n",
       "  </tbody>\n",
       "</table>\n",
       "</div>"
      ],
      "text/plain": [
       "                                           plan_name plan_url plan_resolution  \\\n",
       "1  Habitat Management Plan - Baldwin County Meado...       na             NaN   \n",
       "2        THE MOBILE PENINSULA - CORRIDOR MASTER PLAN       na             NaN   \n",
       "\n",
       "   planning_method aquisition easement stewardship water_quality  \\\n",
       "1              NaN        NaN      NaN         NaN           NaN   \n",
       "2              NaN        NaN      NaN         NaN           NaN   \n",
       "\n",
       "  resource_species community_resilience gulf_economy  \n",
       "1              NaN                  NaN          NaN  \n",
       "2              NaN                  NaN          NaN  "
      ]
     },
     "execution_count": 16,
     "metadata": {},
     "output_type": "execute_result"
    }
   ],
   "source": [
    "files_df_reduced = cherry_pick_dataframe(files_df_remapped, conformed_header)\n",
    "files_df_reduced.head(2)"
   ]
  },
  {
   "cell_type": "markdown",
   "metadata": {},
   "source": [
    "## Expand Columns For Incoming Dataframe With New Columns"
   ]
  },
  {
   "cell_type": "markdown",
   "metadata": {},
   "source": [
    "Source: https://towardsdatascience.com/4-methods-for-adding-columns-to-pandas-dataframes-dd0696863c16"
   ]
  },
  {
   "cell_type": "code",
   "execution_count": 19,
   "metadata": {},
   "outputs": [
    {
     "data": {
      "text/html": [
       "<div>\n",
       "<style scoped>\n",
       "    .dataframe tbody tr th:only-of-type {\n",
       "        vertical-align: middle;\n",
       "    }\n",
       "\n",
       "    .dataframe tbody tr th {\n",
       "        vertical-align: top;\n",
       "    }\n",
       "\n",
       "    .dataframe thead th {\n",
       "        text-align: right;\n",
       "    }\n",
       "</style>\n",
       "<table border=\"1\" class=\"dataframe\">\n",
       "  <thead>\n",
       "    <tr style=\"text-align: right;\">\n",
       "      <th></th>\n",
       "      <th>id</th>\n",
       "      <th>plan_name</th>\n",
       "      <th>plan_url</th>\n",
       "      <th>plan_resolution</th>\n",
       "      <th>planning_method</th>\n",
       "      <th>aquisition</th>\n",
       "      <th>easement</th>\n",
       "      <th>stewardship</th>\n",
       "      <th>plan_timeframe</th>\n",
       "      <th>agency_lead</th>\n",
       "      <th>...</th>\n",
       "      <th>water_quality</th>\n",
       "      <th>resource_species</th>\n",
       "      <th>community_resilience</th>\n",
       "      <th>ecosystem_resilience</th>\n",
       "      <th>gulf_economy</th>\n",
       "      <th>related_state</th>\n",
       "      <th>status</th>\n",
       "      <th>is_new</th>\n",
       "      <th>existing_planid</th>\n",
       "      <th>username</th>\n",
       "    </tr>\n",
       "  </thead>\n",
       "  <tbody>\n",
       "    <tr>\n",
       "      <th>1</th>\n",
       "      <td>null</td>\n",
       "      <td>Habitat Management Plan - Baldwin County Meado...</td>\n",
       "      <td>na</td>\n",
       "      <td>NaN</td>\n",
       "      <td>NaN</td>\n",
       "      <td>NaN</td>\n",
       "      <td>NaN</td>\n",
       "      <td>NaN</td>\n",
       "      <td>null</td>\n",
       "      <td>null</td>\n",
       "      <td>...</td>\n",
       "      <td>NaN</td>\n",
       "      <td>NaN</td>\n",
       "      <td>NaN</td>\n",
       "      <td>null</td>\n",
       "      <td>NaN</td>\n",
       "      <td>null</td>\n",
       "      <td>null</td>\n",
       "      <td>null</td>\n",
       "      <td>null</td>\n",
       "      <td>null</td>\n",
       "    </tr>\n",
       "    <tr>\n",
       "      <th>2</th>\n",
       "      <td>null</td>\n",
       "      <td>THE MOBILE PENINSULA - CORRIDOR MASTER PLAN</td>\n",
       "      <td>na</td>\n",
       "      <td>NaN</td>\n",
       "      <td>NaN</td>\n",
       "      <td>NaN</td>\n",
       "      <td>NaN</td>\n",
       "      <td>NaN</td>\n",
       "      <td>null</td>\n",
       "      <td>null</td>\n",
       "      <td>...</td>\n",
       "      <td>NaN</td>\n",
       "      <td>NaN</td>\n",
       "      <td>NaN</td>\n",
       "      <td>null</td>\n",
       "      <td>NaN</td>\n",
       "      <td>null</td>\n",
       "      <td>null</td>\n",
       "      <td>null</td>\n",
       "      <td>null</td>\n",
       "      <td>null</td>\n",
       "    </tr>\n",
       "    <tr>\n",
       "      <th>3</th>\n",
       "      <td>null</td>\n",
       "      <td>Management Plan for the - Audubon Bird Sanctuary</td>\n",
       "      <td>na</td>\n",
       "      <td>NaN</td>\n",
       "      <td>NaN</td>\n",
       "      <td>NaN</td>\n",
       "      <td>NaN</td>\n",
       "      <td>NaN</td>\n",
       "      <td>null</td>\n",
       "      <td>null</td>\n",
       "      <td>...</td>\n",
       "      <td>NaN</td>\n",
       "      <td>NaN</td>\n",
       "      <td>NaN</td>\n",
       "      <td>null</td>\n",
       "      <td>NaN</td>\n",
       "      <td>null</td>\n",
       "      <td>null</td>\n",
       "      <td>null</td>\n",
       "      <td>null</td>\n",
       "      <td>null</td>\n",
       "    </tr>\n",
       "  </tbody>\n",
       "</table>\n",
       "<p>3 rows × 22 columns</p>\n",
       "</div>"
      ],
      "text/plain": [
       "     id                                          plan_name plan_url  \\\n",
       "1  null  Habitat Management Plan - Baldwin County Meado...       na   \n",
       "2  null        THE MOBILE PENINSULA - CORRIDOR MASTER PLAN       na   \n",
       "3  null   Management Plan for the - Audubon Bird Sanctuary       na   \n",
       "\n",
       "  plan_resolution  planning_method aquisition easement stewardship  \\\n",
       "1             NaN              NaN        NaN      NaN         NaN   \n",
       "2             NaN              NaN        NaN      NaN         NaN   \n",
       "3             NaN              NaN        NaN      NaN         NaN   \n",
       "\n",
       "  plan_timeframe agency_lead  ... water_quality resource_species  \\\n",
       "1           null        null  ...           NaN              NaN   \n",
       "2           null        null  ...           NaN              NaN   \n",
       "3           null        null  ...           NaN              NaN   \n",
       "\n",
       "  community_resilience ecosystem_resilience gulf_economy related_state status  \\\n",
       "1                  NaN                 null          NaN          null   null   \n",
       "2                  NaN                 null          NaN          null   null   \n",
       "3                  NaN                 null          NaN          null   null   \n",
       "\n",
       "  is_new existing_planid username  \n",
       "1   null            null     null  \n",
       "2   null            null     null  \n",
       "3   null            null     null  \n",
       "\n",
       "[3 rows x 22 columns]"
      ]
     },
     "execution_count": 19,
     "metadata": {},
     "output_type": "execute_result"
    }
   ],
   "source": [
    "files_df_expanded = files_df_reduced.copy()\n",
    "existing_header_copy = existing_header\n",
    "\n",
    "for i in range(len(existing_header_copy)):  \n",
    "    current_column = existing_header[i] \n",
    "    if current_column not in  list(files_df_reduced.columns):\n",
    "        files_df_expanded.insert(i, current_column, \"null\")\n",
    "\n",
    "files_df_expanded.head(3)"
   ]
  },
  {
   "cell_type": "markdown",
   "metadata": {},
   "source": [
    "## Post-processing Application"
   ]
  },
  {
   "cell_type": "markdown",
   "metadata": {},
   "source": [
    "#### Enumerate ID"
   ]
  },
  {
   "cell_type": "code",
   "execution_count": 21,
   "metadata": {},
   "outputs": [
    {
     "name": "stdout",
     "output_type": "stream",
     "text": [
      "len 295\n"
     ]
    },
    {
     "data": {
      "text/plain": [
       "range(344, 639)"
      ]
     },
     "execution_count": 21,
     "metadata": {},
     "output_type": "execute_result"
    }
   ],
   "source": [
    "current_index = 344\n",
    "print(\"len\", len(files_df_expanded))\n",
    "id_col = range(current_index, len(files_df_expanded) + current_index) \n",
    "files_df_expanded[\"id\"] = id_col "
   ]
  },
  {
   "cell_type": "markdown",
   "metadata": {},
   "source": []
  },
  {
   "cell_type": "code",
   "execution_count": 29,
   "metadata": {},
   "outputs": [
    {
     "data": {
      "text/html": [
       "<div>\n",
       "<style scoped>\n",
       "    .dataframe tbody tr th:only-of-type {\n",
       "        vertical-align: middle;\n",
       "    }\n",
       "\n",
       "    .dataframe tbody tr th {\n",
       "        vertical-align: top;\n",
       "    }\n",
       "\n",
       "    .dataframe thead th {\n",
       "        text-align: right;\n",
       "    }\n",
       "</style>\n",
       "<table border=\"1\" class=\"dataframe\">\n",
       "  <thead>\n",
       "    <tr style=\"text-align: right;\">\n",
       "      <th></th>\n",
       "      <th>id</th>\n",
       "      <th>plan_name</th>\n",
       "      <th>plan_url</th>\n",
       "      <th>plan_resolution</th>\n",
       "      <th>planning_method</th>\n",
       "      <th>aquisition</th>\n",
       "      <th>easement</th>\n",
       "      <th>stewardship</th>\n",
       "      <th>plan_timeframe</th>\n",
       "      <th>agency_lead</th>\n",
       "      <th>...</th>\n",
       "      <th>water_quality</th>\n",
       "      <th>resource_species</th>\n",
       "      <th>community_resilience</th>\n",
       "      <th>ecosystem_resilience</th>\n",
       "      <th>gulf_economy</th>\n",
       "      <th>related_state</th>\n",
       "      <th>status</th>\n",
       "      <th>is_new</th>\n",
       "      <th>existing_planid</th>\n",
       "      <th>username</th>\n",
       "    </tr>\n",
       "  </thead>\n",
       "  <tbody>\n",
       "    <tr>\n",
       "      <th>1</th>\n",
       "      <td>344</td>\n",
       "      <td>Habitat Management Plan - Baldwin County Meado...</td>\n",
       "      <td>na</td>\n",
       "      <td>NaN</td>\n",
       "      <td>NaN</td>\n",
       "      <td>NaN</td>\n",
       "      <td>NaN</td>\n",
       "      <td>NaN</td>\n",
       "      <td>null</td>\n",
       "      <td>null</td>\n",
       "      <td>...</td>\n",
       "      <td>NaN</td>\n",
       "      <td>NaN</td>\n",
       "      <td>NaN</td>\n",
       "      <td>null</td>\n",
       "      <td>NaN</td>\n",
       "      <td>null</td>\n",
       "      <td>null</td>\n",
       "      <td>false</td>\n",
       "      <td>344</td>\n",
       "      <td>null</td>\n",
       "    </tr>\n",
       "    <tr>\n",
       "      <th>2</th>\n",
       "      <td>345</td>\n",
       "      <td>THE MOBILE PENINSULA - CORRIDOR MASTER PLAN</td>\n",
       "      <td>na</td>\n",
       "      <td>NaN</td>\n",
       "      <td>NaN</td>\n",
       "      <td>NaN</td>\n",
       "      <td>NaN</td>\n",
       "      <td>NaN</td>\n",
       "      <td>null</td>\n",
       "      <td>null</td>\n",
       "      <td>...</td>\n",
       "      <td>NaN</td>\n",
       "      <td>NaN</td>\n",
       "      <td>NaN</td>\n",
       "      <td>null</td>\n",
       "      <td>NaN</td>\n",
       "      <td>null</td>\n",
       "      <td>null</td>\n",
       "      <td>false</td>\n",
       "      <td>345</td>\n",
       "      <td>null</td>\n",
       "    </tr>\n",
       "    <tr>\n",
       "      <th>3</th>\n",
       "      <td>346</td>\n",
       "      <td>Management Plan for the - Audubon Bird Sanctuary</td>\n",
       "      <td>na</td>\n",
       "      <td>NaN</td>\n",
       "      <td>NaN</td>\n",
       "      <td>NaN</td>\n",
       "      <td>NaN</td>\n",
       "      <td>NaN</td>\n",
       "      <td>null</td>\n",
       "      <td>null</td>\n",
       "      <td>...</td>\n",
       "      <td>NaN</td>\n",
       "      <td>NaN</td>\n",
       "      <td>NaN</td>\n",
       "      <td>null</td>\n",
       "      <td>NaN</td>\n",
       "      <td>null</td>\n",
       "      <td>null</td>\n",
       "      <td>false</td>\n",
       "      <td>346</td>\n",
       "      <td>null</td>\n",
       "    </tr>\n",
       "  </tbody>\n",
       "</table>\n",
       "<p>3 rows × 22 columns</p>\n",
       "</div>"
      ],
      "text/plain": [
       "    id                                          plan_name plan_url  \\\n",
       "1  344  Habitat Management Plan - Baldwin County Meado...       na   \n",
       "2  345        THE MOBILE PENINSULA - CORRIDOR MASTER PLAN       na   \n",
       "3  346   Management Plan for the - Audubon Bird Sanctuary       na   \n",
       "\n",
       "  plan_resolution  planning_method aquisition easement stewardship  \\\n",
       "1             NaN              NaN        NaN      NaN         NaN   \n",
       "2             NaN              NaN        NaN      NaN         NaN   \n",
       "3             NaN              NaN        NaN      NaN         NaN   \n",
       "\n",
       "  plan_timeframe agency_lead  ... water_quality resource_species  \\\n",
       "1           null        null  ...           NaN              NaN   \n",
       "2           null        null  ...           NaN              NaN   \n",
       "3           null        null  ...           NaN              NaN   \n",
       "\n",
       "  community_resilience ecosystem_resilience gulf_economy related_state status  \\\n",
       "1                  NaN                 null          NaN          null   null   \n",
       "2                  NaN                 null          NaN          null   null   \n",
       "3                  NaN                 null          NaN          null   null   \n",
       "\n",
       "  is_new existing_planid username  \n",
       "1  false             344     null  \n",
       "2  false             345     null  \n",
       "3  false             346     null  \n",
       "\n",
       "[3 rows x 22 columns]"
      ]
     },
     "execution_count": 29,
     "metadata": {},
     "output_type": "execute_result"
    }
   ],
   "source": [
    "# `is_new` should be boolean\n",
    "files_df_expanded[\"is_new\"] = \"false\"\n",
    "\n",
    "files_df_expanded[\"existing_planid\"] = files_df_expanded[\"id\"]\n",
    "\n",
    "files_df_expanded.head(3)"
   ]
  },
  {
   "cell_type": "markdown",
   "metadata": {},
   "source": [
    "## Write To A CSV"
   ]
  },
  {
   "cell_type": "markdown",
   "metadata": {},
   "source": [
    "YAH: we are expanding the work flow"
   ]
  },
  {
   "cell_type": "code",
   "execution_count": 27,
   "metadata": {},
   "outputs": [],
   "source": [
    "files_df_expanded.to_csv(r'CIT_Newly_added_Catalog_0521.csv', na_rep='NULL', index=False)"
   ]
  },
  {
   "cell_type": "markdown",
   "metadata": {},
   "source": [
    "### Review "
   ]
  },
  {
   "cell_type": "code",
   "execution_count": 42,
   "metadata": {},
   "outputs": [],
   "source": [
    "files_df_reduced_as_csv = pd.read_csv(\"CIT_Newly_added_Catalog_0521.csv\")"
   ]
  },
  {
   "cell_type": "code",
   "execution_count": 43,
   "metadata": {},
   "outputs": [
    {
     "data": {
      "text/html": [
       "<div>\n",
       "<style scoped>\n",
       "    .dataframe tbody tr th:only-of-type {\n",
       "        vertical-align: middle;\n",
       "    }\n",
       "\n",
       "    .dataframe tbody tr th {\n",
       "        vertical-align: top;\n",
       "    }\n",
       "\n",
       "    .dataframe thead th {\n",
       "        text-align: right;\n",
       "    }\n",
       "</style>\n",
       "<table border=\"1\" class=\"dataframe\">\n",
       "  <thead>\n",
       "    <tr style=\"text-align: right;\">\n",
       "      <th></th>\n",
       "      <th>id</th>\n",
       "      <th>plan_name</th>\n",
       "      <th>plan_url</th>\n",
       "      <th>plan_resolution</th>\n",
       "      <th>planning_method</th>\n",
       "      <th>aquisition</th>\n",
       "      <th>easement</th>\n",
       "      <th>stewardship</th>\n",
       "      <th>plan_timeframe</th>\n",
       "      <th>agency_lead</th>\n",
       "      <th>...</th>\n",
       "      <th>water_quality</th>\n",
       "      <th>resource_species</th>\n",
       "      <th>community_resilience</th>\n",
       "      <th>ecosystem_resilience</th>\n",
       "      <th>gulf_economy</th>\n",
       "      <th>related_state</th>\n",
       "      <th>status</th>\n",
       "      <th>is_new</th>\n",
       "      <th>existing_planid</th>\n",
       "      <th>username</th>\n",
       "    </tr>\n",
       "  </thead>\n",
       "  <tbody>\n",
       "    <tr>\n",
       "      <th>0</th>\n",
       "      <td>NaN</td>\n",
       "      <td>Habitat Management Plan - Baldwin County Meado...</td>\n",
       "      <td>na</td>\n",
       "      <td>NaN</td>\n",
       "      <td>NaN</td>\n",
       "      <td>NaN</td>\n",
       "      <td>NaN</td>\n",
       "      <td>NaN</td>\n",
       "      <td>NaN</td>\n",
       "      <td>NaN</td>\n",
       "      <td>...</td>\n",
       "      <td>NaN</td>\n",
       "      <td>NaN</td>\n",
       "      <td>NaN</td>\n",
       "      <td>NaN</td>\n",
       "      <td>NaN</td>\n",
       "      <td>NaN</td>\n",
       "      <td>NaN</td>\n",
       "      <td>NaN</td>\n",
       "      <td>NaN</td>\n",
       "      <td>NaN</td>\n",
       "    </tr>\n",
       "    <tr>\n",
       "      <th>1</th>\n",
       "      <td>NaN</td>\n",
       "      <td>THE MOBILE PENINSULA - CORRIDOR MASTER PLAN</td>\n",
       "      <td>na</td>\n",
       "      <td>NaN</td>\n",
       "      <td>NaN</td>\n",
       "      <td>NaN</td>\n",
       "      <td>NaN</td>\n",
       "      <td>NaN</td>\n",
       "      <td>NaN</td>\n",
       "      <td>NaN</td>\n",
       "      <td>...</td>\n",
       "      <td>NaN</td>\n",
       "      <td>NaN</td>\n",
       "      <td>NaN</td>\n",
       "      <td>NaN</td>\n",
       "      <td>NaN</td>\n",
       "      <td>NaN</td>\n",
       "      <td>NaN</td>\n",
       "      <td>NaN</td>\n",
       "      <td>NaN</td>\n",
       "      <td>NaN</td>\n",
       "    </tr>\n",
       "    <tr>\n",
       "      <th>2</th>\n",
       "      <td>NaN</td>\n",
       "      <td>Management Plan for the - Audubon Bird Sanctuary</td>\n",
       "      <td>na</td>\n",
       "      <td>NaN</td>\n",
       "      <td>NaN</td>\n",
       "      <td>NaN</td>\n",
       "      <td>NaN</td>\n",
       "      <td>NaN</td>\n",
       "      <td>NaN</td>\n",
       "      <td>NaN</td>\n",
       "      <td>...</td>\n",
       "      <td>NaN</td>\n",
       "      <td>NaN</td>\n",
       "      <td>NaN</td>\n",
       "      <td>NaN</td>\n",
       "      <td>NaN</td>\n",
       "      <td>NaN</td>\n",
       "      <td>NaN</td>\n",
       "      <td>NaN</td>\n",
       "      <td>NaN</td>\n",
       "      <td>NaN</td>\n",
       "    </tr>\n",
       "    <tr>\n",
       "      <th>3</th>\n",
       "      <td>NaN</td>\n",
       "      <td>Apalachee Region Comprehensive Economic Develo...</td>\n",
       "      <td>http://www.nado.org/wp-content/uploads/2014/08...</td>\n",
       "      <td>Regional</td>\n",
       "      <td>NaN</td>\n",
       "      <td>Yes</td>\n",
       "      <td>Yes</td>\n",
       "      <td>Yes</td>\n",
       "      <td>NaN</td>\n",
       "      <td>NaN</td>\n",
       "      <td>...</td>\n",
       "      <td>Yes</td>\n",
       "      <td>Yes</td>\n",
       "      <td>Yes</td>\n",
       "      <td>NaN</td>\n",
       "      <td>Yes</td>\n",
       "      <td>NaN</td>\n",
       "      <td>NaN</td>\n",
       "      <td>NaN</td>\n",
       "      <td>NaN</td>\n",
       "      <td>NaN</td>\n",
       "    </tr>\n",
       "    <tr>\n",
       "      <th>4</th>\n",
       "      <td>NaN</td>\n",
       "      <td>Fishery Management Plan for Spanish Mackerel</td>\n",
       "      <td>http://sedarweb.org/docs/wsupp/S17RD03%20ASMFC...</td>\n",
       "      <td>GCR</td>\n",
       "      <td>NaN</td>\n",
       "      <td>NaN</td>\n",
       "      <td>NaN</td>\n",
       "      <td>NaN</td>\n",
       "      <td>NaN</td>\n",
       "      <td>NaN</td>\n",
       "      <td>...</td>\n",
       "      <td>NaN</td>\n",
       "      <td>Manage Spanish mackerel resourse</td>\n",
       "      <td>NaN</td>\n",
       "      <td>NaN</td>\n",
       "      <td>Minimize disruptions of markets for Spanish ma...</td>\n",
       "      <td>NaN</td>\n",
       "      <td>NaN</td>\n",
       "      <td>NaN</td>\n",
       "      <td>NaN</td>\n",
       "      <td>NaN</td>\n",
       "    </tr>\n",
       "  </tbody>\n",
       "</table>\n",
       "<p>5 rows × 22 columns</p>\n",
       "</div>"
      ],
      "text/plain": [
       "   id                                          plan_name  \\\n",
       "0 NaN  Habitat Management Plan - Baldwin County Meado...   \n",
       "1 NaN        THE MOBILE PENINSULA - CORRIDOR MASTER PLAN   \n",
       "2 NaN   Management Plan for the - Audubon Bird Sanctuary   \n",
       "3 NaN  Apalachee Region Comprehensive Economic Develo...   \n",
       "4 NaN      Fishery Management Plan for Spanish Mackerel    \n",
       "\n",
       "                                            plan_url plan_resolution  \\\n",
       "0                                                 na             NaN   \n",
       "1                                                 na             NaN   \n",
       "2                                                 na             NaN   \n",
       "3  http://www.nado.org/wp-content/uploads/2014/08...        Regional   \n",
       "4  http://sedarweb.org/docs/wsupp/S17RD03%20ASMFC...             GCR   \n",
       "\n",
       "   planning_method aquisition easement stewardship  plan_timeframe  \\\n",
       "0              NaN        NaN      NaN         NaN             NaN   \n",
       "1              NaN        NaN      NaN         NaN             NaN   \n",
       "2              NaN        NaN      NaN         NaN             NaN   \n",
       "3              NaN        Yes      Yes         Yes             NaN   \n",
       "4              NaN        NaN      NaN         NaN             NaN   \n",
       "\n",
       "   agency_lead  ...  water_quality                  resource_species  \\\n",
       "0          NaN  ...            NaN                               NaN   \n",
       "1          NaN  ...            NaN                               NaN   \n",
       "2          NaN  ...            NaN                               NaN   \n",
       "3          NaN  ...            Yes                               Yes   \n",
       "4          NaN  ...            NaN  Manage Spanish mackerel resourse   \n",
       "\n",
       "  community_resilience ecosystem_resilience  \\\n",
       "0                  NaN                  NaN   \n",
       "1                  NaN                  NaN   \n",
       "2                  NaN                  NaN   \n",
       "3                  Yes                  NaN   \n",
       "4                  NaN                  NaN   \n",
       "\n",
       "                                        gulf_economy  related_state status  \\\n",
       "0                                                NaN            NaN    NaN   \n",
       "1                                                NaN            NaN    NaN   \n",
       "2                                                NaN            NaN    NaN   \n",
       "3                                                Yes            NaN    NaN   \n",
       "4  Minimize disruptions of markets for Spanish ma...            NaN    NaN   \n",
       "\n",
       "   is_new  existing_planid  username  \n",
       "0     NaN              NaN       NaN  \n",
       "1     NaN              NaN       NaN  \n",
       "2     NaN              NaN       NaN  \n",
       "3     NaN              NaN       NaN  \n",
       "4     NaN              NaN       NaN  \n",
       "\n",
       "[5 rows x 22 columns]"
      ]
     },
     "execution_count": 43,
     "metadata": {},
     "output_type": "execute_result"
    }
   ],
   "source": [
    "files_df_reduced_as_csv.head()"
   ]
  },
  {
   "cell_type": "code",
   "execution_count": null,
   "metadata": {},
   "outputs": [],
   "source": []
  },
  {
   "cell_type": "markdown",
   "metadata": {},
   "source": [
    "# Trouble Shooting"
   ]
  },
  {
   "cell_type": "markdown",
   "metadata": {},
   "source": [
    "Fix any issues and blockers faced here with some experimentation."
   ]
  },
  {
   "cell_type": "markdown",
   "metadata": {},
   "source": [
    "## FXD BLQ 0: 'is_new' column with invalid Boolean values"
   ]
  },
  {
   "cell_type": "markdown",
   "metadata": {},
   "source": [
    "FIX: Set values in Boolean columns to exactly True or False. Nan does not count.\n",
    "\n",
    "**NOTE:** `True` in Python may not register as `TRUE` or `t` in SQL. It may not be projecting properly. Try this fix first."
   ]
  },
  {
   "cell_type": "code",
   "execution_count": null,
   "metadata": {},
   "outputs": [],
   "source": [
    "# files_ascsv = files_ascsv.assign(is_new=\"TRUE\")"
   ]
  },
  {
   "cell_type": "code",
   "execution_count": null,
   "metadata": {},
   "outputs": [],
   "source": [
    "# files = files_ascsv"
   ]
  },
  {
   "cell_type": "code",
   "execution_count": null,
   "metadata": {},
   "outputs": [],
   "source": [
    "# files.to_csv(r'CIT_Newly_added_Catalog_0521.csv', index=False)"
   ]
  },
  {
   "cell_type": "code",
   "execution_count": null,
   "metadata": {},
   "outputs": [],
   "source": [
    "# files.head()"
   ]
  },
  {
   "cell_type": "code",
   "execution_count": null,
   "metadata": {},
   "outputs": [],
   "source": [
    "# files.to_csv(r'CIT_Newly_added_Catalog_0521.csv', na_rep='NULL', index=False)"
   ]
  },
  {
   "cell_type": "markdown",
   "metadata": {},
   "source": [
    "## FXD BLQ 1: \n",
    "ERROR:  extra data after last expected column \n",
    "CONTEXT:  COPY plans, line 1: \",Unnamed: 0,Unnamed: 0.1,id,plan_name,date_added,suggested_by,url,plan_resolution,planning_method,aq...\""
   ]
  },
  {
   "cell_type": "code",
   "execution_count": null,
   "metadata": {},
   "outputs": [],
   "source": [
    "# files.head()"
   ]
  },
  {
   "cell_type": "markdown",
   "metadata": {},
   "source": [
    "## FXD BLQ 2: "
   ]
  },
  {
   "cell_type": "markdown",
   "metadata": {},
   "source": [
    "ERROR:  invalid input syntax for type integer: \"id\"\n",
    "CONTEXT:  COPY plans, line 1, column id: \"id\""
   ]
  },
  {
   "cell_type": "code",
   "execution_count": null,
   "metadata": {},
   "outputs": [],
   "source": [
    "# files.head()"
   ]
  },
  {
   "cell_type": "code",
   "execution_count": null,
   "metadata": {},
   "outputs": [],
   "source": [
    "# files['is_new']"
   ]
  },
  {
   "cell_type": "markdown",
   "metadata": {},
   "source": [
    "## FXD BLQ 3: "
   ]
  },
  {
   "cell_type": "markdown",
   "metadata": {},
   "source": [
    "**SOL** make sure you use HEADER yes option.\n",
    "\n",
    "ERROR:  invalid input syntax for type integer: \"id\"\n",
    "CONTEXT:  COPY plans, line 1, column id: \"id\""
   ]
  },
  {
   "cell_type": "code",
   "execution_count": null,
   "metadata": {},
   "outputs": [],
   "source": [
    "# files.head()"
   ]
  },
  {
   "cell_type": "markdown",
   "metadata": {},
   "source": [
    "## BLQ 4: Fixing Misaligned Columns From Data Process"
   ]
  },
  {
   "cell_type": "markdown",
   "metadata": {},
   "source": [
    "It looks like some are just out of order."
   ]
  },
  {
   "cell_type": "code",
   "execution_count": 10,
   "metadata": {},
   "outputs": [
    {
     "data": {
      "text/plain": [
       "['Plan Name',\n",
       " 'Date Added',\n",
       " 'Suggested By',\n",
       " 'Url',\n",
       " 'Plan Resolution',\n",
       " 'Planning Method',\n",
       " 'Aquisition',\n",
       " 'Easement ',\n",
       " 'Stewardship',\n",
       " 'Habitat',\n",
       " 'Water Quality ',\n",
       " 'Resources/Species',\n",
       " 'Community Resilience',\n",
       " 'Gulf Economy',\n",
       " 'Code']"
      ]
     },
     "execution_count": 10,
     "metadata": {},
     "output_type": "execute_result"
    }
   ],
   "source": [
    "# list(files.columns)"
   ]
  },
  {
   "cell_type": "markdown",
   "metadata": {},
   "source": [
    "**NOTES** See below for plans SQL from PGAdmin"
   ]
  },
  {
   "cell_type": "markdown",
   "metadata": {},
   "source": [
    "CREATE TABLE public.plans\n",
    "(\n",
    "    id integer NOT NULL DEFAULT nextval('plans_id_seq'::regclass),\n",
    "    plan_name text COLLATE pg_catalog.\"default\" NOT NULL,\n",
    "    plan_url text COLLATE pg_catalog.\"default\" NOT NULL,\n",
    "    plan_resolution text COLLATE pg_catalog.\"default\",\n",
    "    planning_method text COLLATE pg_catalog.\"default\",\n",
    "    acquisition text COLLATE pg_catalog.\"default\",\n",
    "    easement text COLLATE pg_catalog.\"default\",\n",
    "    stewardship text COLLATE pg_catalog.\"default\",\n",
    "    plan_timeframe text COLLATE pg_catalog.\"default\",\n",
    "    agency_lead text COLLATE pg_catalog.\"default\",\n",
    "    geo_extent text COLLATE pg_catalog.\"default\",\n",
    "    habitat text COLLATE pg_catalog.\"default\",\n",
    "    water_quality text COLLATE pg_catalog.\"default\",\n",
    "    resources_species text COLLATE pg_catalog.\"default\",\n",
    "    community_resilience text COLLATE pg_catalog.\"default\",\n",
    "    ecosystem_resilience text COLLATE pg_catalog.\"default\",\n",
    "    gulf_economy text COLLATE pg_catalog.\"default\",\n",
    "    related_state text COLLATE pg_catalog.\"default\",\n",
    "    status text COLLATE pg_catalog.\"default\",\n",
    "    is_new boolean,\n",
    "    existing_planid integer,\n",
    "    username text COLLATE pg_catalog.\"default\",\n",
    "    CONSTRAINT plans_pkey PRIMARY KEY (id)"
   ]
  }
 ],
 "metadata": {
  "kernelspec": {
   "display_name": "Python 3",
   "language": "python",
   "name": "python3"
  },
  "language_info": {
   "codemirror_mode": {
    "name": "ipython",
    "version": 3
   },
   "file_extension": ".py",
   "mimetype": "text/x-python",
   "name": "python",
   "nbconvert_exporter": "python",
   "pygments_lexer": "ipython3",
   "version": "3.9.2"
  }
 },
 "nbformat": 4,
 "nbformat_minor": 4
}
