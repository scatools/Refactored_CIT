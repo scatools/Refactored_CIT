{
 "cells": [
  {
   "cell_type": "markdown",
   "id": "390c6993-3983-4ab2-940e-5515429a6edb",
   "metadata": {},
   "source": [
    "# Work Notebook for CIT: Email Notify"
   ]
  },
  {
   "cell_type": "code",
   "execution_count": 8,
   "id": "81f9a0d8-dce4-46ee-a245-9f021cf689af",
   "metadata": {},
   "outputs": [],
   "source": [
    "import os\n",
    "\n",
    "from flask import Flask, render_template, redirect, session, flash, jsonify, request, g, url_for\n",
    "from flask_mail import Mail\n",
    "import sqlalchemy"
   ]
  },
  {
   "cell_type": "code",
   "execution_count": 2,
   "id": "83ad0703-1974-42cd-9e0c-082a81ffda2d",
   "metadata": {},
   "outputs": [
    {
     "data": {
      "text/plain": [
       "'1.3.17'"
      ]
     },
     "execution_count": 2,
     "metadata": {},
     "output_type": "execute_result"
    }
   ],
   "source": [
    "sqlalchemy.__version__ "
   ]
  },
  {
   "cell_type": "markdown",
   "id": "471ec188-120f-43ef-825e-57861e202203",
   "metadata": {},
   "source": [
    "### Goal:\n",
    "\n",
    "Send off notification emails for new plans added."
   ]
  },
  {
   "cell_type": "markdown",
   "id": "01e2df4a-1117-4e7e-96ec-bb21dada3fe4",
   "metadata": {},
   "source": [
    "## Configure the Mail server"
   ]
  },
  {
   "cell_type": "markdown",
   "id": "bfee385f-c9c2-4166-9777-183c031268ea",
   "metadata": {},
   "source": [
    "To use actual email, you would use these settings. For mailtrap and similar mock email environemnts, see below."
   ]
  },
  {
   "cell_type": "code",
   "execution_count": 16,
   "id": "b2b8371f-b86a-4fa6-9428-273c79c8b909",
   "metadata": {},
   "outputs": [],
   "source": [
    "# MAIL_SERVER : default 'localhost'\n",
    "# MAIL_PORT : default 25\n",
    "# MAIL_USE_TLS : default False\n",
    "# MAIL_USE_SSL : default False\n",
    "# MAIL_DEBUG : default app.debug\n",
    "# MAIL_USERNAME : default None\n",
    "# MAIL_PASSWORD : default None\n",
    "# MAIL_DEFAULT_SENDER : default None\n",
    "# MAIL_MAX_EMAILS : default None\n",
    "# MAIL_SUPPRESS_SEND : default app.testing\n",
    "# MAIL_ASCII_ATTACHMENTS : default False\n",
    "\n",
    "MAIL_SERVER : 'localhost'\n",
    "MAIL_PORT : 25\n",
    "MAIL_USE_TLS : False\n",
    "MAIL_USE_SSL : False\n",
    "MAIL_DEBUG : app.debug\n",
    "MAIL_USERNAME : None\n",
    "MAIL_PASSWORD : None\n",
    "MAIL_DEFAULT_SENDER : None\n",
    "MAIL_MAX_EMAILS : None\n",
    "MAIL_SUPPRESS_SEND : app.testing\n",
    "MAIL_ASCII_ATTACHMENTS : False"
   ]
  },
  {
   "cell_type": "markdown",
   "id": "7ce9b064-63da-4506-8489-315f1ed1b535",
   "metadata": {},
   "source": [
    "Simplified Configuration for Mailtrap.  \n",
    "**Important Note for Production:** When moving to production environment, store credential in env variables and a configuration profile."
   ]
  },
  {
   "cell_type": "code",
   "execution_count": 4,
   "id": "f5e3e025-5aec-4b3f-9f9d-498b9cf2bc28",
   "metadata": {},
   "outputs": [
    {
     "ename": "NameError",
     "evalue": "name 'app' is not defined",
     "output_type": "error",
     "traceback": [
      "\u001b[0;31m---------------------------------------------------------------------------\u001b[0m",
      "\u001b[0;31mNameError\u001b[0m                                 Traceback (most recent call last)",
      "\u001b[0;32m<ipython-input-4-5f5eb71595d5>\u001b[0m in \u001b[0;36m<module>\u001b[0;34m\u001b[0m\n\u001b[0;32m----> 1\u001b[0;31m \u001b[0mapp\u001b[0m\u001b[0;34m.\u001b[0m\u001b[0mconfig\u001b[0m\u001b[0;34m[\u001b[0m\u001b[0;34m'MAIL_SERVER'\u001b[0m\u001b[0;34m]\u001b[0m\u001b[0;34m=\u001b[0m\u001b[0;34m'smtp.mailtrap.io'\u001b[0m\u001b[0;34m\u001b[0m\u001b[0;34m\u001b[0m\u001b[0m\n\u001b[0m\u001b[1;32m      2\u001b[0m \u001b[0mapp\u001b[0m\u001b[0;34m.\u001b[0m\u001b[0mconfig\u001b[0m\u001b[0;34m[\u001b[0m\u001b[0;34m'MAIL_PORT'\u001b[0m\u001b[0;34m]\u001b[0m \u001b[0;34m=\u001b[0m \u001b[0;36m2525\u001b[0m\u001b[0;34m\u001b[0m\u001b[0;34m\u001b[0m\u001b[0m\n\u001b[1;32m      3\u001b[0m \u001b[0mapp\u001b[0m\u001b[0;34m.\u001b[0m\u001b[0mconfig\u001b[0m\u001b[0;34m[\u001b[0m\u001b[0;34m'MAIL_USERNAME'\u001b[0m\u001b[0;34m]\u001b[0m \u001b[0;34m=\u001b[0m \u001b[0;34m'97e041d5e367c7'\u001b[0m\u001b[0;34m\u001b[0m\u001b[0;34m\u001b[0m\u001b[0m\n\u001b[1;32m      4\u001b[0m \u001b[0mapp\u001b[0m\u001b[0;34m.\u001b[0m\u001b[0mconfig\u001b[0m\u001b[0;34m[\u001b[0m\u001b[0;34m'MAIL_PASSWORD'\u001b[0m\u001b[0;34m]\u001b[0m \u001b[0;34m=\u001b[0m \u001b[0;34m'cfaf5b99f8bafb'\u001b[0m\u001b[0;34m\u001b[0m\u001b[0;34m\u001b[0m\u001b[0m\n\u001b[1;32m      5\u001b[0m \u001b[0;31m# When in production:\u001b[0m\u001b[0;34m\u001b[0m\u001b[0;34m\u001b[0m\u001b[0;34m\u001b[0m\u001b[0m\n",
      "\u001b[0;31mNameError\u001b[0m: name 'app' is not defined"
     ]
    }
   ],
   "source": [
    "app.config['MAIL_SERVER'] ='smtp.mailtrap.io'\n",
    "app.config['MAIL_PORT'] = 2525\n",
    "app.config['MAIL_USERNAME'] = '97e041d5e367c7'\n",
    "app.config['MAIL_PASSWORD'] = 'cfaf5b99f8bafb'\n",
    "# When in production:\n",
    "# app.config['MAIL_USERNAME'] = os.environ.get('MAIL_USERNAME')\n",
    "# app.config['MAIL_PASSWORD'] = os.environ.get('MAIL_PASSWORD')\n",
    "app.config['MAIL_USE_TLS'] = True\n",
    "app.config['MAIL_USE_SSL'] = False"
   ]
  },
  {
   "cell_type": "markdown",
   "id": "fd08bc3e-0584-4423-9464-ec388bffeebd",
   "metadata": {},
   "source": [
    "## Setting Up The Service"
   ]
  },
  {
   "cell_type": "code",
   "execution_count": 9,
   "id": "e572698c-6ed2-4717-81ef-d08c5e190e95",
   "metadata": {},
   "outputs": [],
   "source": [
    "app = Flask(\"test_mail_app\") # pick the name\n",
    "mail = Mail(app)"
   ]
  },
  {
   "cell_type": "markdown",
   "id": "6b2c432e-b680-4bdc-a07f-c29cc84d550c",
   "metadata": {},
   "source": [
    "Setup the message object."
   ]
  },
  {
   "cell_type": "code",
   "execution_count": 11,
   "id": "54088b72-1a58-477e-9b58-df3c0a64376b",
   "metadata": {},
   "outputs": [],
   "source": [
    "# App route.\n",
    "@app.route(\"/\")\n",
    "def index():\n",
    "  msg = Message('Hello from the other side!', sender =   'peter@mailtrap.io', recipients = ['paul@mailtrap.io'])\n",
    "  msg.body = \"Hey Paul, sending you this email from my Flask app, lmk if it works\"\n",
    "  mail.send(msg)\n",
    "  return \"Message sent!\""
   ]
  },
  {
   "cell_type": "code",
   "execution_count": 12,
   "id": "2e84239c-b81d-46e9-868d-ef4fea392f03",
   "metadata": {},
   "outputs": [
    {
     "name": "stdout",
     "output_type": "stream",
     "text": [
      " * Serving Flask app \"test_mail_app\" (lazy loading)\n",
      " * Environment: production\n",
      "\u001b[31m   WARNING: This is a development server. Do not use it in a production deployment.\u001b[0m\n",
      "\u001b[2m   Use a production WSGI server instead.\u001b[0m\n",
      " * Debug mode: on\n"
     ]
    },
    {
     "name": "stderr",
     "output_type": "stream",
     "text": [
      " * Running on http://127.0.0.1:5000/ (Press CTRL+C to quit)\n",
      " * Restarting with stat\n"
     ]
    },
    {
     "ename": "SystemExit",
     "evalue": "1",
     "output_type": "error",
     "traceback": [
      "An exception has occurred, use %tb to see the full traceback.\n",
      "\u001b[0;31mSystemExit\u001b[0m\u001b[0;31m:\u001b[0m 1\n"
     ]
    },
    {
     "name": "stderr",
     "output_type": "stream",
     "text": [
      "/Library/Frameworks/Python.framework/Versions/3.9/lib/python3.9/site-packages/IPython/core/interactiveshell.py:3449: UserWarning: To exit: use 'exit', 'quit', or Ctrl-D.\n",
      "  warn(\"To exit: use 'exit', 'quit', or Ctrl-D.\", stacklevel=1)\n"
     ]
    }
   ],
   "source": [
    "if __name__ == '__main__':\n",
    "   app.run(debug = True)"
   ]
  },
  {
   "cell_type": "code",
   "execution_count": 13,
   "id": "1cc280c1-326d-4f0a-98d4-b82af4cb93ea",
   "metadata": {},
   "outputs": [
    {
     "ename": "SystemExit",
     "evalue": "1",
     "output_type": "error",
     "traceback": [
      "\u001b[0;31m---------------------------------------------------------------------------\u001b[0m",
      "\u001b[0;31mSystemExit\u001b[0m                                Traceback (most recent call last)",
      "\u001b[0;32m<ipython-input-12-d491ce1c4bb5>\u001b[0m in \u001b[0;36m<module>\u001b[0;34m\u001b[0m\n\u001b[1;32m      1\u001b[0m \u001b[0;32mif\u001b[0m \u001b[0m__name__\u001b[0m \u001b[0;34m==\u001b[0m \u001b[0;34m'__main__'\u001b[0m\u001b[0;34m:\u001b[0m\u001b[0;34m\u001b[0m\u001b[0;34m\u001b[0m\u001b[0m\n\u001b[0;32m----> 2\u001b[0;31m    \u001b[0mapp\u001b[0m\u001b[0;34m.\u001b[0m\u001b[0mrun\u001b[0m\u001b[0;34m(\u001b[0m\u001b[0mdebug\u001b[0m \u001b[0;34m=\u001b[0m \u001b[0;32mTrue\u001b[0m\u001b[0;34m)\u001b[0m\u001b[0;34m\u001b[0m\u001b[0;34m\u001b[0m\u001b[0m\n\u001b[0m",
      "\u001b[0;32m/Library/Frameworks/Python.framework/Versions/3.9/lib/python3.9/site-packages/flask/app.py\u001b[0m in \u001b[0;36mrun\u001b[0;34m(self, host, port, debug, load_dotenv, **options)\u001b[0m\n\u001b[1;32m    988\u001b[0m \u001b[0;34m\u001b[0m\u001b[0m\n\u001b[1;32m    989\u001b[0m         \u001b[0;32mtry\u001b[0m\u001b[0;34m:\u001b[0m\u001b[0;34m\u001b[0m\u001b[0;34m\u001b[0m\u001b[0m\n\u001b[0;32m--> 990\u001b[0;31m             \u001b[0mrun_simple\u001b[0m\u001b[0;34m(\u001b[0m\u001b[0mhost\u001b[0m\u001b[0;34m,\u001b[0m \u001b[0mport\u001b[0m\u001b[0;34m,\u001b[0m \u001b[0mself\u001b[0m\u001b[0;34m,\u001b[0m \u001b[0;34m**\u001b[0m\u001b[0moptions\u001b[0m\u001b[0;34m)\u001b[0m\u001b[0;34m\u001b[0m\u001b[0;34m\u001b[0m\u001b[0m\n\u001b[0m\u001b[1;32m    991\u001b[0m         \u001b[0;32mfinally\u001b[0m\u001b[0;34m:\u001b[0m\u001b[0;34m\u001b[0m\u001b[0;34m\u001b[0m\u001b[0m\n\u001b[1;32m    992\u001b[0m             \u001b[0;31m# reset the first request information if the development server\u001b[0m\u001b[0;34m\u001b[0m\u001b[0;34m\u001b[0m\u001b[0;34m\u001b[0m\u001b[0m\n",
      "\u001b[0;32m/Library/Frameworks/Python.framework/Versions/3.9/lib/python3.9/site-packages/werkzeug/serving.py\u001b[0m in \u001b[0;36mrun_simple\u001b[0;34m(hostname, port, application, use_reloader, use_debugger, use_evalex, extra_files, reloader_interval, reloader_type, threaded, processes, request_handler, static_files, passthrough_errors, ssl_context)\u001b[0m\n\u001b[1;32m   1048\u001b[0m         \u001b[0;32mfrom\u001b[0m \u001b[0;34m.\u001b[0m\u001b[0m_reloader\u001b[0m \u001b[0;32mimport\u001b[0m \u001b[0mrun_with_reloader\u001b[0m\u001b[0;34m\u001b[0m\u001b[0;34m\u001b[0m\u001b[0m\n\u001b[1;32m   1049\u001b[0m \u001b[0;34m\u001b[0m\u001b[0m\n\u001b[0;32m-> 1050\u001b[0;31m         \u001b[0mrun_with_reloader\u001b[0m\u001b[0;34m(\u001b[0m\u001b[0minner\u001b[0m\u001b[0;34m,\u001b[0m \u001b[0mextra_files\u001b[0m\u001b[0;34m,\u001b[0m \u001b[0mreloader_interval\u001b[0m\u001b[0;34m,\u001b[0m \u001b[0mreloader_type\u001b[0m\u001b[0;34m)\u001b[0m\u001b[0;34m\u001b[0m\u001b[0;34m\u001b[0m\u001b[0m\n\u001b[0m\u001b[1;32m   1051\u001b[0m     \u001b[0;32melse\u001b[0m\u001b[0;34m:\u001b[0m\u001b[0;34m\u001b[0m\u001b[0;34m\u001b[0m\u001b[0m\n\u001b[1;32m   1052\u001b[0m         \u001b[0minner\u001b[0m\u001b[0;34m(\u001b[0m\u001b[0;34m)\u001b[0m\u001b[0;34m\u001b[0m\u001b[0;34m\u001b[0m\u001b[0m\n",
      "\u001b[0;32m/Library/Frameworks/Python.framework/Versions/3.9/lib/python3.9/site-packages/werkzeug/_reloader.py\u001b[0m in \u001b[0;36mrun_with_reloader\u001b[0;34m(main_func, extra_files, interval, reloader_type)\u001b[0m\n\u001b[1;32m    337\u001b[0m             \u001b[0mreloader\u001b[0m\u001b[0;34m.\u001b[0m\u001b[0mrun\u001b[0m\u001b[0;34m(\u001b[0m\u001b[0;34m)\u001b[0m\u001b[0;34m\u001b[0m\u001b[0;34m\u001b[0m\u001b[0m\n\u001b[1;32m    338\u001b[0m         \u001b[0;32melse\u001b[0m\u001b[0;34m:\u001b[0m\u001b[0;34m\u001b[0m\u001b[0;34m\u001b[0m\u001b[0m\n\u001b[0;32m--> 339\u001b[0;31m             \u001b[0msys\u001b[0m\u001b[0;34m.\u001b[0m\u001b[0mexit\u001b[0m\u001b[0;34m(\u001b[0m\u001b[0mreloader\u001b[0m\u001b[0;34m.\u001b[0m\u001b[0mrestart_with_reloader\u001b[0m\u001b[0;34m(\u001b[0m\u001b[0;34m)\u001b[0m\u001b[0;34m)\u001b[0m\u001b[0;34m\u001b[0m\u001b[0;34m\u001b[0m\u001b[0m\n\u001b[0m\u001b[1;32m    340\u001b[0m     \u001b[0;32mexcept\u001b[0m \u001b[0mKeyboardInterrupt\u001b[0m\u001b[0;34m:\u001b[0m\u001b[0;34m\u001b[0m\u001b[0;34m\u001b[0m\u001b[0m\n\u001b[1;32m    341\u001b[0m         \u001b[0;32mpass\u001b[0m\u001b[0;34m\u001b[0m\u001b[0;34m\u001b[0m\u001b[0m\n",
      "\u001b[0;31mSystemExit\u001b[0m: 1"
     ]
    }
   ],
   "source": [
    "%tb"
   ]
  },
  {
   "cell_type": "code",
   "execution_count": null,
   "id": "ec4e8377-d4da-403c-aa20-4dcbb49f9264",
   "metadata": {},
   "outputs": [],
   "source": []
  }
 ],
 "metadata": {
  "kernelspec": {
   "display_name": "Python 3",
   "language": "python",
   "name": "python3"
  },
  "language_info": {
   "codemirror_mode": {
    "name": "ipython",
    "version": 3
   },
   "file_extension": ".py",
   "mimetype": "text/x-python",
   "name": "python",
   "nbconvert_exporter": "python",
   "pygments_lexer": "ipython3",
   "version": "3.9.2"
  }
 },
 "nbformat": 4,
 "nbformat_minor": 5
}
