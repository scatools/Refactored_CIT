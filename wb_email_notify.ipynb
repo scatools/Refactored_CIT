{
 "cells": [
  {
   "cell_type": "markdown",
   "id": "deb5faa9",
   "metadata": {},
   "source": [
    "# Work Notebook for CIT: Email Notify"
   ]
  },
  {
   "cell_type": "markdown",
   "id": "936d7f62",
   "metadata": {},
   "source": [
    "## Goal:\n",
    "\n",
    "Send off notification emails for new plans added."
   ]
  },
  {
   "cell_type": "code",
   "execution_count": 2,
   "id": "9ba63752",
   "metadata": {},
   "outputs": [],
   "source": [
    "import os\n",
    "\n",
    "from flask import Flask, render_template, redirect, session, flash, jsonify, request, g, url_for\n",
    "\n",
    "import smtplib\n",
    "import datetime\n",
    "\n",
    "import sqlalchemy\n",
    "\n",
    "import config as cfg"
   ]
  },
  {
   "cell_type": "markdown",
   "id": "12b501c8",
   "metadata": {},
   "source": [
    "## Configure the Mail server"
   ]
  },
  {
   "cell_type": "markdown",
   "id": "5c87f93a",
   "metadata": {},
   "source": [
    "To use actual email, you would use these settings. For mailtrap and similar mock email environemnts, see below."
   ]
  },
  {
   "cell_type": "code",
   "execution_count": 3,
   "id": "c4d8c406",
   "metadata": {},
   "outputs": [],
   "source": [
    "# Configurations.\n",
    "gmail_user = cfg.APP_USER\n",
    "gmail_password = cfg.APP_PASSWORD\n",
    "gmail_reviewer = cfg.APP_REVIEWER"
   ]
  },
  {
   "cell_type": "markdown",
   "id": "7ae66c81",
   "metadata": {},
   "source": [
    "## Email"
   ]
  },
  {
   "cell_type": "markdown",
   "id": "59541c9b",
   "metadata": {},
   "source": [
    "### Compose Message"
   ]
  },
  {
   "cell_type": "code",
   "execution_count": 8,
   "id": "3f3bffdf",
   "metadata": {},
   "outputs": [],
   "source": [
    "sent_from = gmail_user\n",
    "to = [gmail_reviewer] \n",
    "subject = 'sca_project_test_email at: ' + str(datetime.datetime.now())\n",
    "body = 'sca_project_test_email at: ' + str(datetime.datetime.now())\n",
    "body += '\\n This is a test email from Jaimes jupter notebook.'\n",
    "\n",
    "email_text = \"\"\"\\\n",
    "From: %s\n",
    "To: %s\n",
    "Subject: %s\n",
    "\n",
    "%s\n",
    "\"\"\" % (sent_from, \", \".join(to), subject, body)"
   ]
  },
  {
   "cell_type": "markdown",
   "id": "bd96d2b8",
   "metadata": {},
   "source": [
    "### What's the body say?"
   ]
  },
  {
   "cell_type": "code",
   "execution_count": 6,
   "id": "baf7aa85",
   "metadata": {},
   "outputs": [
    {
     "name": "stdout",
     "output_type": "stream",
     "text": [
      "body:  sca_project_test_email at: 2021-11-15 12:56:53.406087\n",
      " This is a test email from Jaimes jupter notebook.\n"
     ]
    }
   ],
   "source": [
    "print('body: ', body)"
   ]
  },
  {
   "cell_type": "markdown",
   "id": "3902104c",
   "metadata": {},
   "source": [
    "### Send Message"
   ]
  },
  {
   "cell_type": "code",
   "execution_count": 7,
   "id": "ab571715",
   "metadata": {},
   "outputs": [
    {
     "name": "stdout",
     "output_type": "stream",
     "text": [
      "Email sent successfully!\n"
     ]
    }
   ],
   "source": [
    "try:\n",
    "    smtp_server = smtplib.SMTP_SSL('smtp.gmail.com', 465)\n",
    "    smtp_server.ehlo()\n",
    "    smtp_server.login(gmail_user, gmail_password)\n",
    "    smtp_server.sendmail(sent_from, to, email_text)\n",
    "    smtp_server.close()\n",
    "    print (\"Email sent successfully!\")\n",
    "except Exception as ex:\n",
    "    print (\"Something went wrong….\",ex)"
   ]
  },
  {
   "cell_type": "code",
   "execution_count": null,
   "id": "95749dd9",
   "metadata": {},
   "outputs": [],
   "source": []
  }
 ],
 "metadata": {
  "kernelspec": {
   "display_name": "Python 3",
   "language": "python",
   "name": "python3"
  },
  "language_info": {
   "codemirror_mode": {
    "name": "ipython",
    "version": 3
   },
   "file_extension": ".py",
   "mimetype": "text/x-python",
   "name": "python",
   "nbconvert_exporter": "python",
   "pygments_lexer": "ipython3",
   "version": "3.9.2"
  }
 },
 "nbformat": 4,
 "nbformat_minor": 5
}
