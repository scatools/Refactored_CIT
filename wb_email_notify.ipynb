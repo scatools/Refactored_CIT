{
 "cells": [
  {
   "cell_type": "markdown",
   "id": "390c6993-3983-4ab2-940e-5515429a6edb",
   "metadata": {},
   "source": [
    "# Work Notebook for CIT: Email Notify"
   ]
  },
  {
   "cell_type": "markdown",
   "id": "8f5c0deb-4b17-4861-963a-4a7763d09d9a",
   "metadata": {},
   "source": [
    "## Goal:\n",
    "\n",
    "Send off notification emails for new plans added."
   ]
  },
  {
   "cell_type": "code",
   "execution_count": 23,
   "id": "81f9a0d8-dce4-46ee-a245-9f021cf689af",
   "metadata": {},
   "outputs": [],
   "source": [
    "import os\n",
    "\n",
    "from flask import Flask, render_template, redirect, session, flash, jsonify, request, g, url_for\n",
    "from flask_mail import Mail\n",
    "# from can import Message\n",
    "\n",
    "import smtplib\n",
    "import datetime\n",
    "\n",
    "import sqlalchemy\n",
    "\n",
    "import config as cfg"
   ]
  },
  {
   "cell_type": "markdown",
   "id": "01e2df4a-1117-4e7e-96ec-bb21dada3fe4",
   "metadata": {},
   "source": [
    "## Configure the Mail server"
   ]
  },
  {
   "cell_type": "markdown",
   "id": "bfee385f-c9c2-4166-9777-183c031268ea",
   "metadata": {},
   "source": [
    "To use actual email, you would use these settings. For mailtrap and similar mock email environemnts, see below."
   ]
  },
  {
   "cell_type": "code",
   "execution_count": 16,
   "id": "b2b8371f-b86a-4fa6-9428-273c79c8b909",
   "metadata": {},
   "outputs": [],
   "source": [
    "# Configurations.\n",
    "gmail_user = cfg.APP_USER\n",
    "gmail_password = cfg.APP_PASSWORD\n",
    "gmail_reviewer = cfg.APP_REVIEWER"
   ]
  },
  {
   "cell_type": "markdown",
   "id": "fd08bc3e-0584-4423-9464-ec388bffeebd",
   "metadata": {},
   "source": [
    "## Email"
   ]
  },
  {
   "cell_type": "markdown",
   "id": "44f50f71-96a9-4570-af55-27fec883347b",
   "metadata": {},
   "source": [
    "### Compose Message"
   ]
  },
  {
   "cell_type": "code",
   "execution_count": 36,
   "id": "728b0745-09c1-4982-a97b-0dd424cbba41",
   "metadata": {},
   "outputs": [],
   "source": [
    "sent_from = gmail_user\n",
    "to = [gmail_reviewer] \n",
    "subject = 'test_email_jl' + str(datetime.datetime.now())\n",
    "body = 'test email at: 10' + str(datetime.datetime.now())\n",
    "\n",
    "email_text = \"\"\"\\\n",
    "From: %s\n",
    "To: %s\n",
    "Subject: %s\n",
    "\n",
    "%s\n",
    "\"\"\" % (sent_from, \", \".join(to), subject, body)"
   ]
  },
  {
   "cell_type": "code",
   "execution_count": 37,
   "id": "9aed284c-96bf-4320-8e5d-004a7d7f68eb",
   "metadata": {},
   "outputs": [
    {
     "name": "stdout",
     "output_type": "stream",
     "text": [
      "body:  test email at: 102021-11-11 17:49:37.666131\n"
     ]
    }
   ],
   "source": [
    "print('body: ', body)"
   ]
  },
  {
   "cell_type": "markdown",
   "id": "f04d4ff8-7127-4cf3-8675-486ef6ff92ce",
   "metadata": {},
   "source": [
    "### Send Message"
   ]
  },
  {
   "cell_type": "code",
   "execution_count": 38,
   "id": "bf54a539-15f1-4d3a-a02d-feb723d73268",
   "metadata": {},
   "outputs": [
    {
     "name": "stdout",
     "output_type": "stream",
     "text": [
      "Email sent successfully!\n"
     ]
    }
   ],
   "source": [
    "try:\n",
    "    smtp_server = smtplib.SMTP_SSL('smtp.gmail.com', 465)\n",
    "    smtp_server.ehlo()\n",
    "    smtp_server.login(gmail_user, gmail_password)\n",
    "    smtp_server.sendmail(sent_from, to, email_text)\n",
    "    smtp_server.close()\n",
    "    print (\"Email sent successfully!\")\n",
    "except Exception as ex:\n",
    "    print (\"Something went wrong….\",ex)"
   ]
  },
  {
   "cell_type": "code",
   "execution_count": null,
   "id": "0c204c05-cea8-46bc-8442-e91bbc2705ff",
   "metadata": {},
   "outputs": [],
   "source": []
  }
 ],
 "metadata": {
  "kernelspec": {
   "display_name": "Python 3",
   "language": "python",
   "name": "python3"
  },
  "language_info": {
   "codemirror_mode": {
    "name": "ipython",
    "version": 3
   },
   "file_extension": ".py",
   "mimetype": "text/x-python",
   "name": "python",
   "nbconvert_exporter": "python",
   "pygments_lexer": "ipython3",
   "version": "3.9.2"
  }
 },
 "nbformat": 4,
 "nbformat_minor": 5
}
